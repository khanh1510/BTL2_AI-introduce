{
 "cells": [
  {
   "cell_type": "markdown",
   "id": "0c441a92-f2db-437e-9c47-7e1fe4c7e059",
   "metadata": {},
   "source": [
    "# Phân Tích Độ Sâu Minimax và Thời Gian Ra Nước Đi\n",
    "\n",
    "Trong notebook này, chúng ta khám phá mối quan hệ giữa tham số **độ sâu** (depth) của thuật toán Minimax và **thời gian ra nước đi** trong quá trình chơi Othello.\n",
    "\n",
    "Về cơ bản, chúng ta cần hiểu thời gian mà AI cần để đưa ra mỗi nước đi. Giả thuyết cốt lõi dựa trên lý thuyết rằng độ phức tạp của thuật toán Minimax tăng theo cấp số nhân theo độ sâu. Cụ thể, chúng ta giả thuyết rằng thời gian ra nước đi tăng theo bậc: $\\mathcal{O}(b^d)$, trong đó $b$ là độ phân nhánh của cây trò chơi và $d$ là độ sâu. Lưu ý rằng \"thời gian ra nước đi\" ở đây thực chất là thời gian thực hiện một chu trình tìm kiếm đầy đủ tại độ sâu cho trước.\n",
    "\n",
    "Thông qua quá trình thu thập dữ liệu có hệ thống từ các trận đấu Othello sử dụng các tác tử Minimax, chúng ta xác nhận thực nghiệm mô hình tăng trưởng theo cấp số nhân này.\n",
    "\n",
    "---\n",
    "\n",
    "## Phân Tích Lý Thuyết\n",
    "\n",
    "Phân tích lý thuyết xem xét cách mà thời gian ra nước đi (bao gồm cả thời gian tìm kiếm) của thuật toán Minimax tăng theo độ sâu trong trò chơi Othello. Cụ thể, mối quan hệ giả thuyết là $f(d) = T \\cdot b^d$, trong đó $f(d)$ là thời gian ra nước đi ở độ sâu $d$. Cuối cùng, chúng ta xác minh mối quan hệ này thông qua dữ liệu thực nghiệm.\n",
    "\n",
    "Mối Quan Hệ Giả Thuyết:\n",
    "\n",
    "- **Gọi $f(d)$ là thời gian ra nước đi của thuật toán Minimax ở độ sâu $d$**.\n",
    "- Độ phức tạp thời gian của thuật toán Minimax được kỳ vọng tuân theo: $f(d) = T \\cdot b^d$, trong đó:\n",
    "- $T$ là thời gian trung bình để đánh giá một node trong cây tìm kiếm,\n",
    "- $b$ là hệ số phân nhánh (ước lượng $b \\approx 10$ đối với Othello [1]).\n",
    "- Lưu ý rằng điểm chính của mối quan hệ này là bản chất theo cấp số nhân.\n",
    "\n",
    "Ước Lượng Tham Số:\n",
    "\n",
    "- Để khảo sát mối quan hệ giả thuyết này, chúng ta ghi lại thời gian ra nước đi tại độ sâu $d = 1$ và ghi nhận: $f(1) = T \\cdot b$.\n",
    "- Sử dụng biểu thức trên và hệ số phân nhánh đã nêu ($b \\approx 10$), chúng ta ước lượng giá trị của $T$.\n",
    "\n",
    "Xác Minh:\n",
    "\n",
    "- Sau khi ước lượng, chúng ta tiến hành xác minh thực nghiệm để so sánh giữa mối quan hệ lý thuyết và dữ liệu quan sát được.\n",
    "- Việc xác minh thành công sẽ củng cố hiểu biết của chúng ta về cách thời gian ra nước đi của Minimax tăng theo độ sâu trong Othello.\n",
    "\n",
    "### Tài Liệu Tham Khảo\n",
    "\n",
    "[1] Norvig, P. (1992) '[Search and the Game of Othello](https://www.sciencedirect.com/science/article/abs/pii/B9780080571157500182)', trong *Paradigms of Artificial Intelligence Programming: Case Studies in Common Lisp*, tr. 596–654. doi: 10.1016/B978-0-08-057115-7.50018-2.\n",
    "\n",
    "---\n"
   ]
  },
  {
   "cell_type": "markdown",
   "id": "d463075d-bca6-41b0-9a55-6fd4075772fa",
   "metadata": {},
   "source": [
    "## Load Source Code"
   ]
  },
  {
   "cell_type": "code",
   "execution_count": 1,
   "id": "f26ddb37",
   "metadata": {},
   "outputs": [],
   "source": [
    "import os\n",
    "import sys\n",
    "\n",
    "project_root = os.path.abspath(os.path.join(os.getcwd(), '../..'))\n",
    "os.chdir(project_root)\n",
    "\n",
    "from src.gameLogic.game import Game\n",
    "from src.gameLogic.board import SquareType\n",
    "from src.gameLogic.player import Player, PlayerType\n",
    "from src.ai.minimax.evaluator import StateEvaluator, HeuristicType"
   ]
  },
  {
   "cell_type": "markdown",
   "id": "4d0cef1b-c22f-4922-bab2-70c800531f0d",
   "metadata": {},
   "source": [
    "## Timing Function"
   ]
  },
  {
   "cell_type": "code",
   "execution_count": null,
   "id": "5d58e5e8-e816-4a83-b64b-d1b3b935ad65",
   "metadata": {
    "scrolled": true
   },
   "outputs": [],
   "source": [
    "import time\n",
    "\n",
    "def recordMinimaxMoveTimes_FixedDepth(depth):\n",
    "    state_eval = StateEvaluator(weights={\n",
    "        HeuristicType.DISC_DIFF: 5/60,\n",
    "        HeuristicType.MOBILITY: 15/60,\n",
    "        HeuristicType.CORNERS: 40/60\n",
    "    })\n",
    "        \n",
    "    minimax = Player(PlayerType.MINIMAX, SquareType.BLACK, state_eval, depth)\n",
    "    random = Player(PlayerType.RANDOM, SquareType.WHITE)\n",
    "    game = Game(minimax, random)\n",
    "    \n",
    "    # List to store move times\n",
    "    minimax_move_times = []\n",
    "    while not game.is_finished:\n",
    "        # Black's turn (i.e. Minimax)\n",
    "        if game.active == game.player_black:\n",
    "            start_time = time.time()\n",
    "            game.get_player_move()\n",
    "            end_time = time.time()\n",
    "            \n",
    "            minimax_move_time = end_time - start_time\n",
    "            minimax_move_times.append(minimax_move_time)\n",
    "        else:\n",
    "            game.get_player_move()\n",
    "            \n",
    "        game.make_move()\n",
    "        game.change_turn()\n",
    "        game.update_valid_moves()\n",
    "        game.update_scores()\n",
    "    \n",
    "        game.check_finished()\n",
    "\n",
    "    return minimax_move_times"
   ]
  },
  {
   "cell_type": "markdown",
   "id": "2d9533e4-5cf0-4d97-b7fd-1f9817c5b40b",
   "metadata": {},
   "source": [
    "## Parameter Estimation"
   ]
  },
  {
   "cell_type": "markdown",
   "id": "96860ed7-0900-4ef5-9098-3ada0c0b70f8",
   "metadata": {},
   "source": [
    "- Muốn ước lượng giá trị $T$, tức là thời gian trung bình để đánh giá một node trong cây tìm kiếm  \n",
    "- Ghi lại thời gian ra nước đi tại độ sâu $d = 1$,  $\\quad$ tức là thu thập dữ liệu quan sát và so sánh với $f(1) = T \\cdot b$, $\\quad$ hay $\\quad T = \\frac{f(1)}{b}$.\n"
   ]
  },
  {
   "cell_type": "code",
   "execution_count": 3,
   "id": "00de4dbe-2789-43ce-b601-78d9352c96c8",
   "metadata": {},
   "outputs": [
    {
     "name": "stderr",
     "output_type": "stream",
     "text": [
      "100%|██████████| 15/15 [00:07<00:00,  1.99it/s]"
     ]
    },
    {
     "name": "stdout",
     "output_type": "stream",
     "text": [
      "Recorded move-times at depth d=1.\n"
     ]
    },
    {
     "name": "stderr",
     "output_type": "stream",
     "text": [
      "\n"
     ]
    }
   ],
   "source": [
    "import numpy as np\n",
    "from tqdm import tqdm\n",
    "from IPython.display import display, Math\n",
    "\n",
    "# Simulate many games for reliability\n",
    "NUM_GAMES = 15\n",
    "all_move_times = []\n",
    "\n",
    "for _ in tqdm(range(NUM_GAMES)):\n",
    "    # Record move-times at depth d=1\n",
    "    move_times = recordMinimaxMoveTimes_FixedDepth(depth=1)\n",
    "    all_move_times.extend(move_times)\n",
    "print(\"Recorded move-times at depth d=1.\")"
   ]
  },
  {
   "cell_type": "markdown",
   "id": "27e0d10f-d321-4df6-bf4a-eb85b578e483",
   "metadata": {},
   "source": [
    "- Sử dụng công thức trên và b ≈ 10, ta xấp xỉ khoảng tin cậy 95% cho T theo công thức: T̄ ± 2 × SE_T̄.  \n",
    "- Lưu ý rằng T̄ được lưu dưới biến `T_bar`, và SE_T̄ được lưu dưới biến `SE`.\n"
   ]
  },
  {
   "cell_type": "code",
   "execution_count": 4,
   "id": "660ed1b3-9f3d-4b41-bd00-ec1db945857c",
   "metadata": {},
   "outputs": [
    {
     "data": {
      "text/latex": [
       "$\\displaystyle \\bar{T} \\pm 2 \\cdot \\text{SE}_{\\bar{T}}$"
      ],
      "text/plain": [
       "<IPython.core.display.Math object>"
      ]
     },
     "metadata": {},
     "output_type": "display_data"
    },
    {
     "data": {
      "text/latex": [
       "$\\displaystyle = 0.00148 \\pm 0.00006$"
      ],
      "text/plain": [
       "<IPython.core.display.Math object>"
      ]
     },
     "metadata": {},
     "output_type": "display_data"
    },
    {
     "data": {
      "text/latex": [
       "$\\displaystyle = [0.00142, 0.00155]$"
      ],
      "text/plain": [
       "<IPython.core.display.Math object>"
      ]
     },
     "metadata": {},
     "output_type": "display_data"
    }
   ],
   "source": [
    "# Define branching factor\n",
    "b = 10\n",
    "\n",
    "# Calculate sample mean and std dev of T \n",
    "T_bar = np.mean(all_move_times) / b\n",
    "std_dev = np.std(all_move_times) / b\n",
    "\n",
    "# Calculate standard error of T_bar\n",
    "SE = std_dev / np.sqrt(len(all_move_times))\n",
    "\n",
    "# Display estimate and interval\n",
    "display(Math(f\"\\\\bar{{T}} \\\\pm 2 \\\\cdot \\\\text{{SE}}_{{\\\\bar{{T}}}}\"))\n",
    "display(Math(f\"= {T_bar:.5f} \\\\pm {2 * SE:.5f}\"))\n",
    "display(Math(f\"= [{T_bar - 2 * SE:.5f}, {T_bar + 2 * SE:.5f}]\"))"
   ]
  },
  {
   "cell_type": "markdown",
   "id": "513471be-b7dd-4840-8e9e-c89b61680305",
   "metadata": {},
   "source": [
    "- Về cơ bản, ước lượng của chúng ta cho $T$ nằm trong khoảng $[T_{\\text{mean}} - 2 \\cdot SE, \\; T_{\\text{mean}} + 2 \\cdot SE]$.  \n",
    "- Tức là, **thời gian trung bình để đánh giá một nút trong cây tìm kiếm** nằm trong khoảng $[T_{\\text{mean}} - 2 \\cdot SE, \\; T_{\\text{mean}} + 2 \\cdot SE]$, như đã tính ở trên."
   ]
  },
  {
   "cell_type": "markdown",
   "id": "9eee00c6-f370-42b3-9d82-8162bf4c5615",
   "metadata": {},
   "source": [
    "## Validation"
   ]
  },
  {
   "cell_type": "markdown",
   "id": "9db67344-22ad-4f0f-ba02-1dafa8915edf",
   "metadata": {},
   "source": [
    "- Thực hiện kiểm chứng thực nghiệm bằng cách so sánh mối quan hệ lý thuyết với dữ liệu quan sát được.  \n",
    "- Trước tiên, thu thập một tập hợp thời gian di chuyển khác, lần này ở nhiều độ sâu khác nhau.  \n",
    "- Tính thời gian di chuyển trung bình cho từng độ sâu cụ thể và lưu vào từ điển `move_time_sample_means`."
   ]
  },
  {
   "cell_type": "code",
   "execution_count": 5,
   "id": "7acc07f5-a4cf-4a79-b350-5636705ef0f3",
   "metadata": {},
   "outputs": [
    {
     "name": "stderr",
     "output_type": "stream",
     "text": [
      "100%|██████████| 2/2 [00:01<00:00,  1.66it/s]\n",
      "100%|██████████| 2/2 [00:06<00:00,  3.26s/it]\n",
      "100%|██████████| 2/2 [00:33<00:00, 16.55s/it]\n",
      "100%|██████████| 2/2 [04:09<00:00, 124.93s/it]\n",
      "100%|██████████| 2/2 [16:52<00:00, 506.30s/it]\n",
      "100%|██████████| 5/5 [21:43<00:00, 260.66s/it]\n"
     ]
    },
    {
     "data": {
      "text/plain": [
       "{np.int64(1): np.float64(0.017770595237857005),\n",
       " np.int64(2): np.float64(0.10674862464269003),\n",
       " np.int64(3): np.float64(0.5494956890741984),\n",
       " np.int64(4): np.float64(4.027326380052874),\n",
       " np.int64(5): np.float64(16.596859036899005)}"
      ]
     },
     "execution_count": 5,
     "metadata": {},
     "output_type": "execute_result"
    }
   ],
   "source": [
    "# Simulate only a couple of games at each depth\n",
    "# (Exponential relationship largely increases time-taken at higher depths)\n",
    "NUM_GAMES = 2\n",
    "d_range = np.arange(1, 6)\n",
    "all_move_times = {d: [] for d in d_range}\n",
    "\n",
    "for d in tqdm(d_range):\n",
    "    for _ in tqdm(range(NUM_GAMES)):\n",
    "        move_times = recordMinimaxMoveTimes_FixedDepth(depth=d)\n",
    "        all_move_times[d].extend(move_times)\n",
    "\n",
    "# Calculate sample mean move time for each depth in d_range\n",
    "move_time_sample_means = {d: np.mean(move_times) for d, move_times in all_move_times.items()}\n",
    "move_time_sample_means"
   ]
  },
  {
   "cell_type": "code",
   "execution_count": 6,
   "id": "4970708f-1ccc-41c2-825d-58ef98dbc8ad",
   "metadata": {},
   "outputs": [],
   "source": [
    "import json\n",
    "\n",
    "all_move_times_dict = {str(key): value for key, value in all_move_times.items()}\n",
    "# Save the dictionary as a JSON file\n",
    "with open(\"src/experiments/all_move_times_dict.json\", \"w\") as json_file:\n",
    "    json.dump(all_move_times_dict, json_file)"
   ]
  },
  {
   "cell_type": "markdown",
   "id": "c8fab701-a140-487b-a5bf-452e17c83445",
   "metadata": {},
   "source": [
    "- Sau khi ước lượng, ta thực hiện kiểm chứng thực nghiệm để so sánh mối quan hệ lý thuyết với dữ liệu quan sát được.  \n",
    "- Vẽ biểu đồ thể hiện mối quan hệ lý thuyết (sử dụng giá trị ước lượng của $T$, tức là $\\bar{T}$) so với dữ liệu quan sát được."
   ]
  },
  {
   "cell_type": "code",
   "execution_count": 7,
   "id": "5bdd21d9-410c-43aa-a7e5-7e932352878e",
   "metadata": {
    "scrolled": false
   },
   "outputs": [
    {
     "data": {
      "image/png": "[encoded data removed]",
      "text/plain": [
       "<Figure size 640x480 with 1 Axes>"
      ]
     },
     "metadata": {},
     "output_type": "display_data"
    }
   ],
   "source": [
    "import matplotlib.pyplot as plt\n",
    "\n",
    "# Depth range and move_time_sample_means dictionary\n",
    "d_range = np.arange(1, 6)\n",
    "\n",
    "theoretical_move_times = T_bar * b**d_range\n",
    "empirical_move_times = list(move_time_sample_means.values())\n",
    "\n",
    "# Plot the mean value for T (T_bar) against move_time_sample_means\n",
    "plt.plot(d_range, theoretical_move_times, label='Theoretical', color='blue', marker='o')\n",
    "plt.plot(d_range, empirical_move_times, label='Empirical', color='orange', marker='o')\n",
    "\n",
    "plt.xlabel('Depth, d')\n",
    "plt.ylabel('Move Time (seconds)')\n",
    "plt.title('Move Time: Theoretical Vs. Empirical')\n",
    "plt.legend()\n",
    "plt.grid(True, which='both', linestyle='--', alpha=0.5)\n",
    "plt.xticks(d_range)\n",
    "plt.show()"
   ]
  },
  {
   "cell_type": "markdown",
   "id": "be1e463a-12a0-42ff-af57-7f941cf11152",
   "metadata": {},
   "source": [
    "- Dữ liệu quan sát phù hợp với lý thuyết.  \n",
    "- Xác nhận hiểu biết của chúng ta về cách thời gian di chuyển của thuật toán Minimax tăng theo độ sâu trong trò chơi Othello.  \n",
    "- Ngoài ra, điều này cũng cho thấy rằng $d = 3$ hoặc $4$ là một độ sâu phù hợp để người dùng thi đấu với AI.\n"
   ]
  }
 ],
 "metadata": {
  "kernelspec": {
   "display_name": "venv",
   "language": "python",
   "name": "python3"
  },
  "language_info": {
   "codemirror_mode": {
    "name": "ipython",
    "version": 3
   },
   "file_extension": ".py",
   "mimetype": "text/x-python",
   "name": "python",
   "nbconvert_exporter": "python",
   "pygments_lexer": "ipython3",
   "version": "3.12.0"
  }
 },
 "nbformat": 4,
 "nbformat_minor": 5
}
