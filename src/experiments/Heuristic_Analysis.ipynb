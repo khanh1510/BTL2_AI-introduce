{
 "cells": [
  {
   "cell_type": "markdown",
   "id": "9245c9e6",
   "metadata": {},
   "source": [
    "# Phân Tích Heuristic cho AI Minimax trong Othello\n",
    "\n",
    "Mục tiêu: khám phá các **heuristic** hiệu quả nhất để dẫn dắt thuật toán Minimax.\n",
    "\n",
    "Nhiều AI agent, mỗi tác tử sử dụng các tổ hợp heuristic khác nhau, sẽ thi đấu đối đầu trực tiếp với nhau. Thông qua các trận đấu này, chúng tôi xác định được các heuristic mạnh nhất dẫn đến hiệu suất AI vượt trội và chiến lược chơi tối ưu.\n",
    "\n",
    "---\n",
    "\n",
    "## Phân Tích Lý Thuyết\n",
    "\n",
    "Phân tích lý thuyết trong notebook này tập trung vào việc đánh giá các trận đấu. Cụ thể, chúng tôi tìm hiểu xem các AI agent (xét về heuristic, trọng số heuristic và độ sâu tìm kiếm) nào đạt được nhiều chiến thắng nhất. Dựa trên kết quả này, chúng tôi suy luận ra các chiến lược tạo nên các tác tử Othello AI vượt trội.\n",
    "\n",
    "Giả thuyết:\n",
    "\n",
    "- Kiểm soát góc là heuristic quan trọng nhất [1], vì giành được các ô góc là nền tảng trong chiến lược Othello [2].\n",
    "- Kết hợp cả ba heuristic (sự chênh lệch quân, khả năng di chuyển, và kiểm soát góc) sẽ tạo nên AI mạnh nhất [3].\n",
    "\n",
    "Phương pháp:\n",
    "\n",
    "- Nhiều AI agent được đánh giá, mỗi tác tử sử dụng các tổ hợp heuristic khác nhau, thông qua các **trận đấu đối đầu trực tiếp**.\n",
    "- Để đảm bảo công bằng, mỗi tác tử thi đấu với tất cả các tác tử khác *hai lần*, một lần với quân Đen và một lần với quân Trắng.\n",
    "- Để đảm bảo công bằng, mọi tác tử Minimax đều có độ sâu được đặt là ba, tức là $d=3$. Ngoài ra, điều này còn phục vụ cho mục đích hiệu quả tính toán.\n",
    "- Kết quả sẽ tạo thành một **cấu trúc giải đấu**, tương tự như định dạng phổ biến trong các giải bóng đá toàn cầu, theo kiểu \"vòng tròn hai lượt\".\n",
    "- Để giữ mọi thứ đơn giản, phần lớn các tác tử sử dụng trọng số đồng đều và việc tối ưu trọng số sẽ được thực hiện trong các phân tích sau, tức là để tinh chỉnh hiệu suất AI.\n",
    "\n",
    "### Tài liệu tham khảo\n",
    "\n",
    "[1] Sannidhanam, A., & Muthukaruppan, A. (2004). '[An Analysis of Heuristics in Othello](https://courses.cs.washington.edu/courses/cse573/04au/Project/mini1/RUSSIA/Final_Paper.pdf)'.\n",
    "\n",
    "[2] Rose, B. (2004). '[Othello: A Minute to Learn... A Lifetime to Master.](https://www.ffothello.org/livres/othello-book-Brian-Rose.pdf)' Anjar Co.\n",
    "\n",
    "---\n"
   ]
  },
  {
   "cell_type": "markdown",
   "id": "bea0dad0",
   "metadata": {},
   "source": [
    "## Load Source Code"
   ]
  },
  {
   "cell_type": "code",
   "execution_count": 48,
   "id": "27472d28",
   "metadata": {},
   "outputs": [],
   "source": [
    "import os\n",
    "import sys\n",
    "\n",
    "project_root = os.path.abspath(os.path.join(os.getcwd(), '../..'))\n",
    "os.chdir(project_root)\n",
    "\n",
    "from src.gameLogic.game import Game\n",
    "from src.gameLogic.board import SquareType\n",
    "from src.gameLogic.player import Player, PlayerType\n",
    "from src.ai.minimax.evaluator import StateEvaluator, HeuristicType\n",
    "from tqdm import tqdm"
   ]
  },
  {
   "cell_type": "markdown",
   "id": "aaf8b085",
   "metadata": {},
   "source": [
    "## Initialise Players"
   ]
  },
  {
   "cell_type": "code",
   "execution_count": 49,
   "id": "8ccf1346",
   "metadata": {},
   "outputs": [],
   "source": [
    "agents = {}\n",
    "depth = 3\n",
    "\n",
    "agents['agent_0'] = {\n",
    "    'black': Player(PlayerType.RANDOM, SquareType.BLACK),\n",
    "    'white': Player(PlayerType.RANDOM, SquareType.WHITE)\n",
    "}\n",
    "\n",
    "custom_weights = {HeuristicType.DISC_DIFF: 1.0}\n",
    "state_eval = StateEvaluator(weights=custom_weights)\n",
    "agents['agent_1'] = {\n",
    "    'black': Player(PlayerType.MINIMAX, SquareType.BLACK, state_eval, depth),\n",
    "    'white': Player(PlayerType.MINIMAX, SquareType.WHITE, state_eval, depth)\n",
    "}\n",
    "\n",
    "custom_weights = {HeuristicType.DISC_DIFF: 0.1, HeuristicType.MOBILITY: 0.9, HeuristicType.CORNERS: 0.0}\n",
    "state_eval = StateEvaluator(weights=custom_weights)\n",
    "agents['agent_2'] = {\n",
    "    'black': Player(PlayerType.MINIMAX, SquareType.BLACK, state_eval, depth),\n",
    "    'white': Player(PlayerType.MINIMAX, SquareType.WHITE, state_eval, depth)\n",
    "}\n",
    "\n",
    "custom_weights = {HeuristicType.DISC_DIFF: 0.0, HeuristicType.MOBILITY: 0.1, HeuristicType.CORNERS: 0.9}\n",
    "state_eval = StateEvaluator(weights=custom_weights)\n",
    "agents['agent_3'] = {\n",
    "    'black': Player(PlayerType.MINIMAX, SquareType.BLACK, state_eval, depth),\n",
    "    'white': Player(PlayerType.MINIMAX, SquareType.WHITE, state_eval, depth)\n",
    "}\n",
    "\n",
    "custom_weights = {HeuristicType.DISC_DIFF: 0.5, HeuristicType.MOBILITY: 0.0, HeuristicType.CORNERS: 0.5}\n",
    "state_eval = StateEvaluator(weights=custom_weights)\n",
    "agents['agent_4'] = {\n",
    "    'black': Player(PlayerType.MINIMAX, SquareType.BLACK, state_eval, depth),\n",
    "    'white': Player(PlayerType.MINIMAX, SquareType.WHITE, state_eval, depth)\n",
    "}\n",
    "\n",
    "custom_weights = {HeuristicType.DISC_DIFF: 0.5, HeuristicType.MOBILITY: 0.5, HeuristicType.CORNERS: 0.0}\n",
    "state_eval = StateEvaluator(weights=custom_weights)\n",
    "agents['agent_5'] = {\n",
    "    'black': Player(PlayerType.MINIMAX, SquareType.BLACK, state_eval, depth),\n",
    "    'white': Player(PlayerType.MINIMAX, SquareType.WHITE, state_eval, depth)\n",
    "}\n",
    "\n",
    "custom_weights = {HeuristicType.DISC_DIFF: 0.15, HeuristicType.MOBILITY: 0.45, HeuristicType.CORNERS: 0.4}\n",
    "state_eval = StateEvaluator(weights=custom_weights)\n",
    "agents['agent_6'] = {\n",
    "    'black': Player(PlayerType.MINIMAX, SquareType.BLACK, state_eval, depth),\n",
    "    'white': Player(PlayerType.MINIMAX, SquareType.WHITE, state_eval, depth)\n",
    "}\n",
    "\n",
    "custom_weights = {\n",
    "    HeuristicType.DISC_DIFF: 0.4,\n",
    "    HeuristicType.MOBILITY: 0.3,\n",
    "    HeuristicType.CORNERS: 0.3\n",
    "}\n",
    "state_eval = StateEvaluator(weights=custom_weights)\n",
    "agents['agent_7'] = {\n",
    "    'black': Player(PlayerType.MINIMAX, SquareType.BLACK, state_eval, depth),\n",
    "    'white': Player(PlayerType.MINIMAX, SquareType.WHITE, state_eval, depth)\n",
    "}\n",
    "\n",
    "custom_weights = {\n",
    "    HeuristicType.DISC_DIFF: 25/60,\n",
    "    HeuristicType.MOBILITY: 5/60,\n",
    "    HeuristicType.CORNERS: 30/60\n",
    "}\n",
    "state_eval = StateEvaluator(weights=custom_weights)\n",
    "agents['agent_8'] = {\n",
    "    'black': Player(PlayerType.MINIMAX, SquareType.BLACK, state_eval, depth),\n",
    "    'white': Player(PlayerType.MINIMAX, SquareType.WHITE, state_eval, depth)\n",
    "}\n",
    "\n",
    "custom_weights = {\n",
    "    HeuristicType.DISC_DIFF: 5/60,\n",
    "    HeuristicType.MOBILITY: 15/60,\n",
    "    HeuristicType.CORNERS: 40/60\n",
    "}\n",
    "state_eval = StateEvaluator(weights=custom_weights)\n",
    "agents['agent_9'] = {\n",
    "    'black': Player(PlayerType.MINIMAX, SquareType.BLACK, state_eval, depth),\n",
    "    'white': Player(PlayerType.MINIMAX, SquareType.WHITE, state_eval, depth)\n",
    "}"
   ]
  },
  {
   "cell_type": "markdown",
   "id": "d7b06dc3-6037-47ad-bb65-d563d898b86f",
   "metadata": {},
   "source": [
    "## Simulate Match Function\n",
    "\n",
    "- Một hàm dùng để mô phỏng một trận đấu Othello giữa hai agent.\n",
    "- Trả về tất cả thông tin liên quan, ví dụ như người thắng cuộc, điểm số, v.v.\n"
   ]
  },
  {
   "cell_type": "code",
   "execution_count": 50,
   "id": "fe4153ea-46fa-400b-9bcf-a9470f1167ec",
   "metadata": {},
   "outputs": [],
   "source": [
    "def simulate_match(agent_black_name, agent_white_name):\n",
    "    agent_black = agents.get(agent_black_name)\n",
    "    agent_white = agents.get(agent_white_name)\n",
    "    \n",
    "    player_black = agent_black[\"black\"]\n",
    "    player_white = agent_white[\"white\"]\n",
    "    game = Game(player_black, player_white)\n",
    "    \n",
    "    while not game.is_finished:\n",
    "        game.get_player_move() \n",
    "        game.make_move()\n",
    "        game.change_turn()\n",
    "        game.update_valid_moves()\n",
    "        game.update_scores()\n",
    "        game.check_finished()\n",
    "    \n",
    "    game.determine_winner()\n",
    "\n",
    "    return {\n",
    "        'game_result': game.game_result,\n",
    "        'black_score': game.black_score,\n",
    "        'white_score': game.white_score,\n",
    "        'agent_black': agent_black_name,\n",
    "        'agent_white': agent_white_name\n",
    "    }"
   ]
  },
  {
   "cell_type": "markdown",
   "id": "8a5b5199-0162-4adb-a0e9-f6f27c5f4390",
   "metadata": {},
   "source": [
    "## Generate (All) Match Results Function\n",
    "\n",
    "- Một hàm dùng để tạo kết quả trận đấu cho từng cặp đối đầu giữa các tác tử.  \n",
    "- Trả về tất cả thông tin liên quan, ví dụ như người thắng cuộc, điểm số, v.v."
   ]
  },
  {
   "cell_type": "code",
   "execution_count": 51,
   "id": "7c16e974-2660-4b25-a92e-3d079aa03655",
   "metadata": {},
   "outputs": [],
   "source": [
    "def generate_match_results():\n",
    "    match_results = []\n",
    "    agent_names = list(agents.keys())\n",
    "\n",
    "    for i in tqdm(range(len(agent_names))):\n",
    "        for j in tqdm(range(i + 1, len(agent_names))):\n",
    "            print(f\"Playing: {agent_names[i]} vs. {agent_names[j]}\")\n",
    "            \n",
    "            result_1 = simulate_match(agent_names[i], agent_names[j])\n",
    "            result_2 = simulate_match(agent_names[j], agent_names[i])\n",
    "            \n",
    "            match_results.append(result_1)\n",
    "            match_results.append(result_2)\n",
    "\n",
    "    return match_results"
   ]
  },
  {
   "cell_type": "code",
   "execution_count": 52,
   "id": "6dcc2e6a-5cb7-45e9-ad62-c1a19fd7df20",
   "metadata": {
    "scrolled": true
   },
   "outputs": [
    {
     "name": "stderr",
     "output_type": "stream",
     "text": [
      "  0%|          | 0/10 [00:00<?, ?it/s]"
     ]
    },
    {
     "name": "stdout",
     "output_type": "stream",
     "text": [
      "Playing: agent_0 vs. agent_1\n"
     ]
    },
    {
     "name": "stderr",
     "output_type": "stream",
     "text": []
    },
    {
     "name": "stdout",
     "output_type": "stream",
     "text": [
      "Playing: agent_0 vs. agent_2\n"
     ]
    },
    {
     "name": "stderr",
     "output_type": "stream",
     "text": []
    },
    {
     "name": "stdout",
     "output_type": "stream",
     "text": [
      "Playing: agent_0 vs. agent_3\n"
     ]
    },
    {
     "name": "stderr",
     "output_type": "stream",
     "text": []
    },
    {
     "name": "stdout",
     "output_type": "stream",
     "text": [
      "Playing: agent_0 vs. agent_4\n"
     ]
    },
    {
     "name": "stderr",
     "output_type": "stream",
     "text": []
    },
    {
     "name": "stdout",
     "output_type": "stream",
     "text": [
      "Playing: agent_0 vs. agent_5\n"
     ]
    },
    {
     "name": "stderr",
     "output_type": "stream",
     "text": []
    },
    {
     "name": "stdout",
     "output_type": "stream",
     "text": [
      "Playing: agent_0 vs. agent_6\n"
     ]
    },
    {
     "name": "stderr",
     "output_type": "stream",
     "text": []
    },
    {
     "name": "stdout",
     "output_type": "stream",
     "text": [
      "Playing: agent_0 vs. agent_7\n"
     ]
    },
    {
     "name": "stderr",
     "output_type": "stream",
     "text": []
    },
    {
     "name": "stdout",
     "output_type": "stream",
     "text": [
      "Playing: agent_0 vs. agent_8\n"
     ]
    },
    {
     "name": "stderr",
     "output_type": "stream",
     "text": []
    },
    {
     "name": "stdout",
     "output_type": "stream",
     "text": [
      "Playing: agent_0 vs. agent_9\n"
     ]
    },
    {
     "name": "stderr",
     "output_type": "stream",
     "text": [
      "100%|██████████| 9/9 [07:43<00:00, 51.53s/it]\n",
      " 10%|█         | 1/10 [07:43<1:09:33, 463.75s/it]"
     ]
    },
    {
     "name": "stdout",
     "output_type": "stream",
     "text": [
      "Playing: agent_1 vs. agent_2\n"
     ]
    },
    {
     "name": "stderr",
     "output_type": "stream",
     "text": []
    },
    {
     "name": "stdout",
     "output_type": "stream",
     "text": [
      "Playing: agent_1 vs. agent_3\n"
     ]
    },
    {
     "name": "stderr",
     "output_type": "stream",
     "text": []
    },
    {
     "name": "stdout",
     "output_type": "stream",
     "text": [
      "Playing: agent_1 vs. agent_4\n"
     ]
    },
    {
     "name": "stderr",
     "output_type": "stream",
     "text": []
    },
    {
     "name": "stdout",
     "output_type": "stream",
     "text": [
      "Playing: agent_1 vs. agent_5\n"
     ]
    },
    {
     "name": "stderr",
     "output_type": "stream",
     "text": []
    },
    {
     "name": "stdout",
     "output_type": "stream",
     "text": [
      "Playing: agent_1 vs. agent_6\n"
     ]
    },
    {
     "name": "stderr",
     "output_type": "stream",
     "text": []
    },
    {
     "name": "stdout",
     "output_type": "stream",
     "text": [
      "Playing: agent_1 vs. agent_7\n"
     ]
    },
    {
     "name": "stderr",
     "output_type": "stream",
     "text": []
    },
    {
     "name": "stdout",
     "output_type": "stream",
     "text": [
      "Playing: agent_1 vs. agent_8\n"
     ]
    },
    {
     "name": "stderr",
     "output_type": "stream",
     "text": []
    },
    {
     "name": "stdout",
     "output_type": "stream",
     "text": [
      "Playing: agent_1 vs. agent_9\n"
     ]
    },
    {
     "name": "stderr",
     "output_type": "stream",
     "text": [
      "100%|██████████| 8/8 [07:12<00:00, 54.03s/it]\n",
      " 20%|██        | 2/10 [14:56<59:21, 445.25s/it]  "
     ]
    },
    {
     "name": "stdout",
     "output_type": "stream",
     "text": [
      "Playing: agent_2 vs. agent_3\n"
     ]
    },
    {
     "name": "stderr",
     "output_type": "stream",
     "text": []
    },
    {
     "name": "stdout",
     "output_type": "stream",
     "text": [
      "Playing: agent_2 vs. agent_4\n"
     ]
    },
    {
     "name": "stderr",
     "output_type": "stream",
     "text": []
    },
    {
     "name": "stdout",
     "output_type": "stream",
     "text": [
      "Playing: agent_2 vs. agent_5\n"
     ]
    },
    {
     "name": "stderr",
     "output_type": "stream",
     "text": []
    },
    {
     "name": "stdout",
     "output_type": "stream",
     "text": [
      "Playing: agent_2 vs. agent_6\n"
     ]
    },
    {
     "name": "stderr",
     "output_type": "stream",
     "text": []
    },
    {
     "name": "stdout",
     "output_type": "stream",
     "text": [
      "Playing: agent_2 vs. agent_7\n"
     ]
    },
    {
     "name": "stderr",
     "output_type": "stream",
     "text": []
    },
    {
     "name": "stdout",
     "output_type": "stream",
     "text": [
      "Playing: agent_2 vs. agent_8\n"
     ]
    },
    {
     "name": "stderr",
     "output_type": "stream",
     "text": []
    },
    {
     "name": "stdout",
     "output_type": "stream",
     "text": [
      "Playing: agent_2 vs. agent_9\n"
     ]
    },
    {
     "name": "stderr",
     "output_type": "stream",
     "text": [
      "100%|██████████| 7/7 [10:05<00:00, 86.51s/it]\n",
      " 30%|███       | 3/10 [25:01<1:00:29, 518.44s/it]"
     ]
    },
    {
     "name": "stdout",
     "output_type": "stream",
     "text": [
      "Playing: agent_3 vs. agent_4\n"
     ]
    },
    {
     "name": "stderr",
     "output_type": "stream",
     "text": []
    },
    {
     "name": "stdout",
     "output_type": "stream",
     "text": [
      "Playing: agent_3 vs. agent_5\n"
     ]
    },
    {
     "name": "stderr",
     "output_type": "stream",
     "text": []
    },
    {
     "name": "stdout",
     "output_type": "stream",
     "text": [
      "Playing: agent_3 vs. agent_6\n"
     ]
    },
    {
     "name": "stderr",
     "output_type": "stream",
     "text": []
    },
    {
     "name": "stdout",
     "output_type": "stream",
     "text": [
      "Playing: agent_3 vs. agent_7\n"
     ]
    },
    {
     "name": "stderr",
     "output_type": "stream",
     "text": []
    },
    {
     "name": "stdout",
     "output_type": "stream",
     "text": [
      "Playing: agent_3 vs. agent_8\n"
     ]
    },
    {
     "name": "stderr",
     "output_type": "stream",
     "text": []
    },
    {
     "name": "stdout",
     "output_type": "stream",
     "text": [
      "Playing: agent_3 vs. agent_9\n"
     ]
    },
    {
     "name": "stderr",
     "output_type": "stream",
     "text": [
      "100%|██████████| 6/6 [05:24<00:00, 54.13s/it]\n",
      " 40%|████      | 4/10 [30:26<44:11, 441.99s/it]  "
     ]
    },
    {
     "name": "stdout",
     "output_type": "stream",
     "text": [
      "Playing: agent_4 vs. agent_5\n"
     ]
    },
    {
     "name": "stderr",
     "output_type": "stream",
     "text": []
    },
    {
     "name": "stdout",
     "output_type": "stream",
     "text": [
      "Playing: agent_4 vs. agent_6\n"
     ]
    },
    {
     "name": "stderr",
     "output_type": "stream",
     "text": []
    },
    {
     "name": "stdout",
     "output_type": "stream",
     "text": [
      "Playing: agent_4 vs. agent_7\n"
     ]
    },
    {
     "name": "stderr",
     "output_type": "stream",
     "text": []
    },
    {
     "name": "stdout",
     "output_type": "stream",
     "text": [
      "Playing: agent_4 vs. agent_8\n"
     ]
    },
    {
     "name": "stderr",
     "output_type": "stream",
     "text": []
    },
    {
     "name": "stdout",
     "output_type": "stream",
     "text": [
      "Playing: agent_4 vs. agent_9\n"
     ]
    },
    {
     "name": "stderr",
     "output_type": "stream",
     "text": [
      "100%|██████████| 5/5 [04:37<00:00, 55.49s/it]\n",
      " 50%|█████     | 5/10 [35:03<31:53, 382.66s/it]"
     ]
    },
    {
     "name": "stdout",
     "output_type": "stream",
     "text": [
      "Playing: agent_5 vs. agent_6\n"
     ]
    },
    {
     "name": "stderr",
     "output_type": "stream",
     "text": []
    },
    {
     "name": "stdout",
     "output_type": "stream",
     "text": [
      "Playing: agent_5 vs. agent_7\n"
     ]
    },
    {
     "name": "stderr",
     "output_type": "stream",
     "text": []
    },
    {
     "name": "stdout",
     "output_type": "stream",
     "text": [
      "Playing: agent_5 vs. agent_8\n"
     ]
    },
    {
     "name": "stderr",
     "output_type": "stream",
     "text": []
    },
    {
     "name": "stdout",
     "output_type": "stream",
     "text": [
      "Playing: agent_5 vs. agent_9\n"
     ]
    },
    {
     "name": "stderr",
     "output_type": "stream",
     "text": [
      "100%|██████████| 4/4 [07:32<00:00, 113.15s/it]\n",
      " 60%|██████    | 6/10 [42:36<27:05, 406.44s/it]"
     ]
    },
    {
     "name": "stdout",
     "output_type": "stream",
     "text": [
      "Playing: agent_6 vs. agent_7\n"
     ]
    },
    {
     "name": "stderr",
     "output_type": "stream",
     "text": []
    },
    {
     "name": "stdout",
     "output_type": "stream",
     "text": [
      "Playing: agent_6 vs. agent_8\n"
     ]
    },
    {
     "name": "stderr",
     "output_type": "stream",
     "text": []
    },
    {
     "name": "stdout",
     "output_type": "stream",
     "text": [
      "Playing: agent_6 vs. agent_9\n"
     ]
    },
    {
     "name": "stderr",
     "output_type": "stream",
     "text": [
      "100%|██████████| 3/3 [04:22<00:00, 87.40s/it]\n",
      " 70%|███████   | 7/10 [46:58<17:57, 359.29s/it]"
     ]
    },
    {
     "name": "stdout",
     "output_type": "stream",
     "text": [
      "Playing: agent_7 vs. agent_8\n"
     ]
    },
    {
     "name": "stderr",
     "output_type": "stream",
     "text": []
    },
    {
     "name": "stdout",
     "output_type": "stream",
     "text": [
      "Playing: agent_7 vs. agent_9\n"
     ]
    },
    {
     "name": "stderr",
     "output_type": "stream",
     "text": [
      "100%|██████████| 2/2 [02:56<00:00, 88.35s/it]\n",
      " 80%|████████  | 8/10 [49:55<10:02, 301.16s/it]"
     ]
    },
    {
     "name": "stdout",
     "output_type": "stream",
     "text": [
      "Playing: agent_8 vs. agent_9\n"
     ]
    },
    {
     "name": "stderr",
     "output_type": "stream",
     "text": [
      "100%|██████████| 1/1 [00:45<00:00, 45.93s/it]\n",
      "0it [00:00, ?it/s]/10 [50:41<03:41, 221.38s/it]\n",
      "100%|██████████| 10/10 [50:41<00:00, 304.13s/it]\n"
     ]
    }
   ],
   "source": [
    "match_results = generate_match_results()"
   ]
  },
  {
   "cell_type": "code",
   "execution_count": null,
   "id": "df7726c6-f52f-4bde-8917-03fc93ec12e6",
   "metadata": {},
   "outputs": [
    {
     "data": {
      "text/html": [
       "<div>\n",
       "<style scoped>\n",
       "    .dataframe tbody tr th:only-of-type {\n",
       "        vertical-align: middle;\n",
       "    }\n",
       "\n",
       "    .dataframe tbody tr th {\n",
       "        vertical-align: top;\n",
       "    }\n",
       "\n",
       "    .dataframe thead th {\n",
       "        text-align: right;\n",
       "    }\n",
       "</style>\n",
       "<table border=\"1\" class=\"dataframe\">\n",
       "  <thead>\n",
       "    <tr style=\"text-align: right;\">\n",
       "      <th></th>\n",
       "      <th>game_result</th>\n",
       "      <th>black_score</th>\n",
       "      <th>white_score</th>\n",
       "      <th>agent_black</th>\n",
       "      <th>agent_white</th>\n",
       "    </tr>\n",
       "  </thead>\n",
       "  <tbody>\n",
       "    <tr>\n",
       "      <th>0</th>\n",
       "      <td>Black Wins</td>\n",
       "      <td>37</td>\n",
       "      <td>27</td>\n",
       "      <td>agent_0</td>\n",
       "      <td>agent_1</td>\n",
       "    </tr>\n",
       "    <tr>\n",
       "      <th>1</th>\n",
       "      <td>Black Wins</td>\n",
       "      <td>54</td>\n",
       "      <td>1</td>\n",
       "      <td>agent_1</td>\n",
       "      <td>agent_0</td>\n",
       "    </tr>\n",
       "    <tr>\n",
       "      <th>2</th>\n",
       "      <td>White Wins</td>\n",
       "      <td>18</td>\n",
       "      <td>46</td>\n",
       "      <td>agent_0</td>\n",
       "      <td>agent_2</td>\n",
       "    </tr>\n",
       "    <tr>\n",
       "      <th>3</th>\n",
       "      <td>Black Wins</td>\n",
       "      <td>50</td>\n",
       "      <td>14</td>\n",
       "      <td>agent_2</td>\n",
       "      <td>agent_0</td>\n",
       "    </tr>\n",
       "    <tr>\n",
       "      <th>4</th>\n",
       "      <td>White Wins</td>\n",
       "      <td>0</td>\n",
       "      <td>53</td>\n",
       "      <td>agent_0</td>\n",
       "      <td>agent_3</td>\n",
       "    </tr>\n",
       "  </tbody>\n",
       "</table>\n",
       "</div>"
      ],
      "text/plain": [
       "  game_result  black_score  white_score agent_black agent_white\n",
       "0  Black Wins           37           27     agent_0     agent_1\n",
       "1  Black Wins           54            1     agent_1     agent_0\n",
       "2  White Wins           18           46     agent_0     agent_2\n",
       "3  Black Wins           50           14     agent_2     agent_0\n",
       "4  White Wins            0           53     agent_0     agent_3"
      ]
     },
     "execution_count": 54,
     "metadata": {},
     "output_type": "execute_result"
    }
   ],
   "source": [
    "import pandas as pd\n",
    "\n",
    "df_results = pd.DataFrame(match_results)\n",
    "df_results.to_csv(\"src/experiments/match_results.csv\")\n",
    "df_results.head()"
   ]
  },
  {
   "cell_type": "markdown",
   "id": "1dc4f407",
   "metadata": {},
   "source": [
    "- Chuyển đổi DataFrame kết quả trận đấu thành bảng xếp hạng giải đấu."
   ]
  },
  {
   "cell_type": "code",
   "execution_count": 55,
   "id": "152dd3c5",
   "metadata": {},
   "outputs": [],
   "source": [
    "\n",
    "all_agents = pd.concat([df_results['agent_black'], df_results['agent_white']]).unique()\n",
    "\n",
    "df_league = pd.DataFrame(index=all_agents)\n",
    "\n",
    "df_league['Wins'] = (\n",
    "    (df_results['game_result'] == 'Black Wins').groupby(df_results['agent_black']).sum() +\n",
    "    (df_results['game_result'] == 'White Wins').groupby(df_results['agent_white']).sum()\n",
    ")\n",
    "\n",
    "df_league['Draws'] = (\n",
    "    (df_results['game_result'] == 'Draw').groupby(df_results['agent_black']).sum() +\n",
    "    (df_results['game_result'] == 'Draw').groupby(df_results['agent_white']).sum()\n",
    ")\n",
    "\n",
    "df_league['Losses'] = (\n",
    "    (df_results['game_result'] == 'White Wins').groupby(df_results['agent_black']).sum() +\n",
    "    (df_results['game_result'] == 'Black Wins').groupby(df_results['agent_white']).sum()\n",
    ")\n",
    "\n",
    "df_league['Points'] = df_league['Wins'] * 3 + df_league['Draws']\n",
    "\n",
    "df_league.fillna(0, inplace=True)\n",
    "\n",
    "df_league.sort_values(by='Points', ascending=False, inplace=True)"
   ]
  },
  {
   "cell_type": "code",
   "execution_count": null,
   "id": "26034724",
   "metadata": {},
   "outputs": [
    {
     "data": {
      "text/html": [
       "<div>\n",
       "<style scoped>\n",
       "    .dataframe tbody tr th:only-of-type {\n",
       "        vertical-align: middle;\n",
       "    }\n",
       "\n",
       "    .dataframe tbody tr th {\n",
       "        vertical-align: top;\n",
       "    }\n",
       "\n",
       "    .dataframe thead th {\n",
       "        text-align: right;\n",
       "    }\n",
       "</style>\n",
       "<table border=\"1\" class=\"dataframe\">\n",
       "  <thead>\n",
       "    <tr style=\"text-align: right;\">\n",
       "      <th></th>\n",
       "      <th>Wins</th>\n",
       "      <th>Draws</th>\n",
       "      <th>Losses</th>\n",
       "      <th>Points</th>\n",
       "    </tr>\n",
       "  </thead>\n",
       "  <tbody>\n",
       "    <tr>\n",
       "      <th>agent_6</th>\n",
       "      <td>14</td>\n",
       "      <td>0</td>\n",
       "      <td>4</td>\n",
       "      <td>42</td>\n",
       "    </tr>\n",
       "    <tr>\n",
       "      <th>agent_3</th>\n",
       "      <td>14</td>\n",
       "      <td>0</td>\n",
       "      <td>4</td>\n",
       "      <td>42</td>\n",
       "    </tr>\n",
       "    <tr>\n",
       "      <th>agent_9</th>\n",
       "      <td>14</td>\n",
       "      <td>0</td>\n",
       "      <td>4</td>\n",
       "      <td>42</td>\n",
       "    </tr>\n",
       "    <tr>\n",
       "      <th>agent_2</th>\n",
       "      <td>11</td>\n",
       "      <td>0</td>\n",
       "      <td>7</td>\n",
       "      <td>33</td>\n",
       "    </tr>\n",
       "    <tr>\n",
       "      <th>agent_7</th>\n",
       "      <td>11</td>\n",
       "      <td>0</td>\n",
       "      <td>7</td>\n",
       "      <td>33</td>\n",
       "    </tr>\n",
       "    <tr>\n",
       "      <th>agent_5</th>\n",
       "      <td>9</td>\n",
       "      <td>0</td>\n",
       "      <td>9</td>\n",
       "      <td>27</td>\n",
       "    </tr>\n",
       "    <tr>\n",
       "      <th>agent_4</th>\n",
       "      <td>6</td>\n",
       "      <td>0</td>\n",
       "      <td>12</td>\n",
       "      <td>18</td>\n",
       "    </tr>\n",
       "    <tr>\n",
       "      <th>agent_1</th>\n",
       "      <td>4</td>\n",
       "      <td>0</td>\n",
       "      <td>14</td>\n",
       "      <td>12</td>\n",
       "    </tr>\n",
       "    <tr>\n",
       "      <th>agent_8</th>\n",
       "      <td>4</td>\n",
       "      <td>0</td>\n",
       "      <td>14</td>\n",
       "      <td>12</td>\n",
       "    </tr>\n",
       "    <tr>\n",
       "      <th>agent_0</th>\n",
       "      <td>3</td>\n",
       "      <td>0</td>\n",
       "      <td>15</td>\n",
       "      <td>9</td>\n",
       "    </tr>\n",
       "  </tbody>\n",
       "</table>\n",
       "</div>"
      ],
      "text/plain": [
       "         Wins  Draws  Losses  Points\n",
       "agent_6    14      0       4      42\n",
       "agent_3    14      0       4      42\n",
       "agent_9    14      0       4      42\n",
       "agent_2    11      0       7      33\n",
       "agent_7    11      0       7      33\n",
       "agent_5     9      0       9      27\n",
       "agent_4     6      0      12      18\n",
       "agent_1     4      0      14      12\n",
       "agent_8     4      0      14      12\n",
       "agent_0     3      0      15       9"
      ]
     },
     "execution_count": 57,
     "metadata": {},
     "output_type": "execute_result"
    }
   ],
   "source": [
    "df_league.to_csv(\"src/experiments/league_table.csv\")\n",
    "df_league"
   ]
  },
  {
   "cell_type": "markdown",
   "id": "0b77a5de",
   "metadata": {},
   "source": [
    "**Main Finding:**\n",
    "\n",
    "- `agent_9/agent_6/agent_3` là AI có hiệu suất mạnh nhất.\n",
    "\n"
   ]
  }
 ],
 "metadata": {
  "kernelspec": {
   "display_name": "venv",
   "language": "python",
   "name": "python3"
  },
  "language_info": {
   "codemirror_mode": {
    "name": "ipython",
    "version": 3
   },
   "file_extension": ".py",
   "mimetype": "text/x-python",
   "name": "python",
   "nbconvert_exporter": "python",
   "pygments_lexer": "ipython3",
   "version": "3.12.0"
  }
 },
 "nbformat": 4,
 "nbformat_minor": 5
}
